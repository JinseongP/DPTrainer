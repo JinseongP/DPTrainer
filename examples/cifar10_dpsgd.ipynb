{
 "cells": [
  {
   "cell_type": "code",
   "execution_count": 1,
   "id": "2e1379b7",
   "metadata": {
    "scrolled": true
   },
   "outputs": [
    {
     "name": "stderr",
     "output_type": "stream",
     "text": [
      "/home/tako/anaconda3/envs/torch1.13/lib/python3.9/site-packages/tqdm/auto.py:21: TqdmWarning: IProgress not found. Please update jupyter and ipywidgets. See https://ipywidgets.readthedocs.io/en/stable/user_install.html\n",
      "  from .autonotebook import tqdm as notebook_tqdm\n"
     ]
    }
   ],
   "source": [
    "import os\n",
    "import warnings\n",
    "import torch\n",
    "\n",
    "warnings.filterwarnings(\"ignore\")\n",
    "if os.getcwd()[-8:]=='examples':\n",
    "    os.chdir('..')"
   ]
  },
  {
   "cell_type": "markdown",
   "id": "69eae87e-1bd1-46c0-a91a-d05c72bad074",
   "metadata": {},
   "source": [
    "### exp setup"
   ]
  },
  {
   "cell_type": "code",
   "execution_count": 2,
   "id": "cd5ee2a1",
   "metadata": {},
   "outputs": [],
   "source": [
    "GPU = 1\n",
    "\n",
    "### FOR DP\n",
    "MAX_GRAD_NORM = 1\n",
    "EPSILON = 2.0\n",
    "DELTA = 1e-5\n",
    "\n",
    "### FOR TRAINING\n",
    "LR = 0.5\n",
    "EPOCHS = 30\n",
    "BATCH_SIZE = 4096\n",
    "MAX_PHYSICAL_BATCH_SIZE = 420\n",
    "PUBLIC_BATCH_SIZE = 64\n",
    "\n",
    "### FOR MODELING\n",
    "MODEL_NAME = \"WRN16-4_WS\"\n",
    "DATA = \"CIFAR10\"\n",
    "N_CLASSES = 10\n",
    "N_AUGMULT = 16\n",
    "\n",
    "### Optimization\n",
    "OPTIMIZER = f\"SGD(lr={LR})\"\n",
    "EXTENDER = None # \"DOPE-SGD\", \"Mirror-GD\"\n",
    "\n",
    "### PATH\n",
    "WARMUP_PATH='./saved/cifar-10-warmup/last.pth'\n",
    "PATH = \"./saved/\"\n",
    "NAME = \"cifar10-dpsgd\"\n",
    "MEMO = \"test\""
   ]
  },
  {
   "cell_type": "markdown",
   "id": "f4cf1d56-ed66-4ae9-b644-0559ac4d1372",
   "metadata": {},
   "source": [
    "### run"
   ]
  },
  {
   "cell_type": "code",
   "execution_count": null,
   "id": "295b6ad8",
   "metadata": {},
   "outputs": [
    {
     "name": "stdout",
     "output_type": "stream",
     "text": [
      "args: Namespace(max_grad_norm=1.0, epsilon=2.0, delta=1e-05, optimizer='SGD(lr=0.5)', epochs=30, batch_size=4096, max_physical_batch_size=420, minimizer=None, rho=0.0, augmult=16, data='CIFAR10', model_name='WRN16-4_WS', normalization=True, n_class=10, path='./saved/', name='cifar10-dpsgd', result_csv='./saved/result.csv', memo='test', use_gpu=True, gpu=1, warm=True, pretrained_dir='./saved/cifar-10-warmup/last.pth', public_data_dir='./data/cifar-10-edm/cifar10_data_sampled_weight0.npz', public_indices_dir='./data/cifar-10-edm/cifar10_data_sampled_index.pt', extender=None, public_batch_size=64)\n",
      "Files already downloaded and verified\n",
      "Files already downloaded and verified\n",
      "Data Loaded (w/ Validation Set)!\n",
      "Train Data Length : 48000\n",
      "Val Data Length : 2000\n",
      "Test Data Length : 10000\n",
      "WRN16-4_WS is loaded.\n",
      "model params: 2.7489M\n",
      "Optimizer with : SGD(lr=0.5)\n",
      "Using sigma=3.57421875 and C=1.0\n",
      "Load pretrained model: ./saved/cifar-10-warmup/last.pth\n",
      "Model loaded.\n",
      "Record Info:\n",
      "OrderedDict([('Epoch', 100), ('Iter', 782), ('CALoss', 0.003191609401255846), ('CALoss_1', 0.12312682718038559), ('Clean(Tr)', 99.948), ('Clean(Val)', 80.76), ('lr', 2.4671981713420017e-05), ('s/it', 0.0778921189258312)])\n",
      "[cifar10-dpsgd]\n",
      "Training Information.\n",
      "-Epochs: 30\n",
      "-Optimizer: SGD (\n",
      "Parameter Group 0\n",
      "    dampening: 0\n",
      "    differentiable: False\n",
      "    foreach: None\n",
      "    lr: 0.5\n",
      "    maximize: False\n",
      "    momentum: 0\n",
      "    nesterov: False\n",
      "    weight_decay: 0\n",
      ")\n",
      "-Scheduler: None\n",
      "-Save Path: ./saved/cifar10-dpsgd\n",
      "-Save Type: None\n",
      "-Record Type: Epoch\n",
      "-Device: cuda:1\n",
      "----------------------------------------------------------\n",
      "Epoch   CALoss   Acc(Tr)   Clean(Val)   lr       Sec/it   \n",
      "==========================================================\n",
      "1       0.6406   80.0900   82.1400      0.5000   4.4630   \n",
      "----------------------------------------------------------\n",
      "2       0.5992   81.5472   82.5900      0.5000   4.4631   \n",
      "----------------------------------------------------------\n",
      "3       0.6041   81.7203   82.9400      0.5000   4.4775   \n",
      "----------------------------------------------------------\n",
      "4       0.5853   82.2845   83.1200      0.5000   4.4286   \n",
      "----------------------------------------------------------\n",
      "5       0.5745   82.5994   83.3900      0.5000   4.4321   \n",
      "----------------------------------------------------------\n",
      "6       0.5750   82.8276   83.4400      0.5000   4.4528   \n",
      "----------------------------------------------------------\n",
      "7       0.5612   83.2331   83.6600      0.5000   4.4803   \n",
      "----------------------------------------------------------\n",
      "8       0.5559   83.4126   83.7300      0.5000   4.4479   \n",
      "----------------------------------------------------------\n",
      "9       0.5623   83.3232   83.9900      0.5000   4.4303   \n",
      "----------------------------------------------------------\n",
      "10      0.5480   83.5859   84.1000      0.5000   4.4720   \n",
      "----------------------------------------------------------\n",
      "11      0.5630   83.5706   84.2300      0.5000   4.4531   \n",
      "----------------------------------------------------------\n",
      "12      0.5395   84.0149   84.2800      0.5000   4.4782   \n",
      "----------------------------------------------------------\n",
      "13      0.5454   84.0434   84.5300      0.5000   4.4290   \n",
      "----------------------------------------------------------\n",
      "14      0.5321   84.2722   84.4200      0.5000   4.4494   \n",
      "----------------------------------------------------------\n",
      "15      0.5395   84.3709   84.5600      0.5000   4.4645   \n",
      "----------------------------------------------------------\n",
      "Progress: - [0:00:04.525274/it]                    \r"
     ]
    }
   ],
   "source": [
    "!python main.py --gpu {GPU} --max_grad_norm {MAX_GRAD_NORM} --epsilon {EPSILON} --delta {DELTA}  --data {DATA}\\\n",
    "--optimizer \"{OPTIMIZER}\" --epochs {EPOCHS} --batch_size {BATCH_SIZE} --max_physical_batch_size {MAX_PHYSICAL_BATCH_SIZE}\\\n",
    "--model_name {MODEL_NAME}  --n_class {N_CLASSES} --augmult {N_AUGMULT} --path {PATH} --name {NAME} --memo {MEMO}\\\n",
    "--public_batch_size {PUBLIC_BATCH_SIZE} --extender {EXTENDER}  --pretrained_dir {WARMUP_PATH}"
   ]
  },
  {
   "cell_type": "code",
   "execution_count": null,
   "id": "a3951efb-7ec8-419d-a742-c24444a3c2c0",
   "metadata": {},
   "outputs": [],
   "source": []
  }
 ],
 "metadata": {
  "kernelspec": {
   "display_name": "Python 3 (ipykernel)",
   "language": "python",
   "name": "python3"
  },
  "language_info": {
   "codemirror_mode": {
    "name": "ipython",
    "version": 3
   },
   "file_extension": ".py",
   "mimetype": "text/x-python",
   "name": "python",
   "nbconvert_exporter": "python",
   "pygments_lexer": "ipython3",
   "version": "3.9.18"
  }
 },
 "nbformat": 4,
 "nbformat_minor": 5
}
