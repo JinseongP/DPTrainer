{
 "cells": [
  {
   "cell_type": "code",
   "execution_count": 5,
   "id": "5c337b40",
   "metadata": {
    "scrolled": true
   },
   "outputs": [
    {
     "name": "stdout",
     "output_type": "stream",
     "text": [
      "Thu May 30 13:22:03 2024       \n",
      "+---------------------------------------------------------------------------------------+\n",
      "| NVIDIA-SMI 535.129.03             Driver Version: 535.129.03   CUDA Version: 12.2     |\n",
      "|-----------------------------------------+----------------------+----------------------+\n",
      "| GPU  Name                 Persistence-M | Bus-Id        Disp.A | Volatile Uncorr. ECC |\n",
      "| Fan  Temp   Perf          Pwr:Usage/Cap |         Memory-Usage | GPU-Util  Compute M. |\n",
      "|                                         |                      |               MIG M. |\n",
      "|=========================================+======================+======================|\n",
      "|   0  NVIDIA GeForce RTX 4090        Off | 00000000:18:00.0 Off |                  Off |\n",
      "| 30%   24C    P8               9W / 450W |     13MiB / 24564MiB |      0%      Default |\n",
      "|                                         |                      |                  N/A |\n",
      "+-----------------------------------------+----------------------+----------------------+\n",
      "|   1  NVIDIA GeForce RTX 4090        Off | 00000000:3F:00.0 Off |                  Off |\n",
      "| 30%   24C    P8              12W / 450W |     13MiB / 24564MiB |      0%      Default |\n",
      "|                                         |                      |                  N/A |\n",
      "+-----------------------------------------+----------------------+----------------------+\n",
      "|   2  NVIDIA GeForce RTX 4090        Off | 00000000:40:00.0 Off |                  Off |\n",
      "| 30%   25C    P8              13W / 450W |     16MiB / 24564MiB |      0%      Default |\n",
      "|                                         |                      |                  N/A |\n",
      "+-----------------------------------------+----------------------+----------------------+\n",
      "|   3  NVIDIA GeForce RTX 4090        Off | 00000000:65:00.0 Off |                  Off |\n",
      "| 30%   31C    P2              99W / 450W |   1148MiB / 24564MiB |     23%      Default |\n",
      "|                                         |                      |                  N/A |\n",
      "+-----------------------------------------+----------------------+----------------------+\n",
      "                                                                                         \n",
      "+---------------------------------------------------------------------------------------+\n",
      "| Processes:                                                                            |\n",
      "|  GPU   GI   CI        PID   Type   Process name                            GPU Memory |\n",
      "|        ID   ID                                                             Usage      |\n",
      "|=======================================================================================|\n",
      "|    0   N/A  N/A      3435      G   /usr/lib/xorg/Xorg                            4MiB |\n",
      "|    1   N/A  N/A      3435      G   /usr/lib/xorg/Xorg                            4MiB |\n",
      "|    2   N/A  N/A      3435      G   /usr/lib/xorg/Xorg                            4MiB |\n",
      "|    3   N/A  N/A      3435      G   /usr/lib/xorg/Xorg                            4MiB |\n",
      "|    3   N/A  N/A    170979      C   ...anaconda3/envs/torch1.13/bin/python     1128MiB |\n",
      "+---------------------------------------------------------------------------------------+\n"
     ]
    }
   ],
   "source": [
    "!nvidia-smi"
   ]
  },
  {
   "cell_type": "code",
   "execution_count": 2,
   "id": "2e1379b7",
   "metadata": {},
   "outputs": [],
   "source": [
    "import os\n",
    "import warnings\n",
    "\n",
    "warnings.filterwarnings(\"ignore\")\n",
    "if os.getcwd()[-8:]=='examples':\n",
    "    os.chdir('..')\n",
    "    \n",
    "os.environ[\"CUDA_VISIBLE_DEVICES\"] = \"2\" # Possible GPUS"
   ]
  },
  {
   "cell_type": "code",
   "execution_count": 3,
   "id": "63432a94",
   "metadata": {},
   "outputs": [],
   "source": [
    "notebook = \"240125_CIFAR10_WRN16WS_DPSGD-Rebuttal-DG3-3\""
   ]
  },
  {
   "cell_type": "code",
   "execution_count": 4,
   "id": "4504274b",
   "metadata": {
    "scrolled": true
   },
   "outputs": [],
   "source": [
    "import numpy as np\n",
    "import torch\n",
    "import torch.nn as nn\n",
    "import torch.optim as optim\n",
    "import torchvision.transforms as transforms\n",
    "import importlib\n",
    "import time\n",
    "\n",
    "from opacus import PrivacyEngine\n",
    "from opacus.validators import ModuleValidator\n",
    "\n",
    "import src\n",
    "import src.trainer as tr\n",
    "from src.utils import *"
   ]
  },
  {
   "cell_type": "markdown",
   "id": "45205af5",
   "metadata": {},
   "source": [
    "### Settings"
   ]
  },
  {
   "cell_type": "code",
   "execution_count": 6,
   "id": "7637d6b6",
   "metadata": {},
   "outputs": [],
   "source": [
    "#### FOR DP\n",
    "MAX_GRAD_NORM = 1\n",
    "EPSILON = 2.0\n",
    "DELTA = 1e-5\n",
    "\n",
    "#### FOR TRAINING\n",
    "LR = 0.5\n",
    "EPOCHS = 30\n",
    "BATCH_SIZE = 4096\n",
    "MAX_PHYSICAL_BATCH_SIZE = 350\n",
    "PUBLIC_BATCH_SIZE = 100\n",
    "\n",
    "### FOR MODELING\n",
    "MODEL_NAME = \"WRN16-4_WS\"\n",
    "# MODEL_NAME = \"DPNASNet_CIFAR\"\n",
    "DATA = \"CIFAR10\"\n",
    "NORMALIZE = {'mean':[0.4930, 0.4875, 0.4548],\n",
    "             'std':[0.2475, 0.2445, 0.2637]}\n",
    "N_CLASSES = 10\n",
    "N_AUGMULT = 16\n",
    "MAX_PHYSICAL_BATCH_SIZE = int(MAX_PHYSICAL_BATCH_SIZE)\n",
    "\n",
    "\n",
    "#### FOR SAVE\n",
    "# tm = time.localtime()\n",
    "# TIME = time.strftime('%m-%d-%I-%M', tm)\n",
    "\n",
    "PATH = \"./saved/\"\n",
    "if notebook is not \"\":\n",
    "    NAME = notebook\n",
    "else:\n",
    "    NAME = f\"{DATA}_{MODEL_NAME}_LR{LR}_EPS{EPSILON}_C{MAX_GRAD_NORM}_EPOCH{EPOCHS}_BS{BATCH_SIZE}_Augmult{N_AUGMULT}_\"\n",
    "\n",
    "SAVE_PATH = PATH + NAME"
   ]
  },
  {
   "cell_type": "markdown",
   "id": "69d3fddb",
   "metadata": {},
   "source": [
    "### Data loader"
   ]
  },
  {
   "cell_type": "code",
   "execution_count": 7,
   "id": "dcead0ee",
   "metadata": {},
   "outputs": [],
   "source": [
    "public_indices = torch.load('./data/cifar-10-edm/sampled_index.pt')\n",
    "val_info = [int(i) for i in range(50000) if i in public_indices]"
   ]
  },
  {
   "cell_type": "code",
   "execution_count": 8,
   "id": "8d2186ab",
   "metadata": {
    "scrolled": true
   },
   "outputs": [
    {
     "name": "stdout",
     "output_type": "stream",
     "text": [
      "Files already downloaded and verified\n",
      "Files already downloaded and verified\n",
      "Data Loaded (w/ Validation Set)!\n",
      "Train Data Length : 48000\n",
      "Val Data Length : 2000\n",
      "Test Data Length : 10000\n"
     ]
    }
   ],
   "source": [
    "data = src.Datasets(data_name=DATA, train_transform = transforms.ToTensor(),val_info=val_info)\n",
    "\n",
    "train_loader, public_loader, test_loader = data.get_loader(batch_size=BATCH_SIZE, batch_size_val=PUBLIC_BATCH_SIZE,\n",
    "                                                           drop_last_train=False, num_workers=16)"
   ]
  },
  {
   "cell_type": "markdown",
   "id": "f44251a2",
   "metadata": {
    "id": "EcestuJGdLLM"
   },
   "source": [
    "### Model & Optimizer"
   ]
  },
  {
   "cell_type": "code",
   "execution_count": 9,
   "id": "5c05d5f9",
   "metadata": {
    "scrolled": true
   },
   "outputs": [
    {
     "name": "stdout",
     "output_type": "stream",
     "text": [
      "WRN16-4_WS is loaded.\n",
      "model params: 2.7489M\n"
     ]
    }
   ],
   "source": [
    "#### Load model\n",
    "model = src.utils.load_model(model_name=MODEL_NAME, n_classes=N_CLASSES).cuda() # Load model\n",
    "model = ModuleValidator.fix(model)\n",
    "set_groupnorm_num_groups(model, num_groups=16)\n",
    "\n",
    "ModuleValidator.validate(model, strict=False)\n",
    "\n",
    "pytorch_total_params = sum(p.numel() for p in model.parameters())\n",
    "\n",
    "print(\"model params: {:.4f}M\".format(pytorch_total_params/1000000))\n",
    "\n",
    "#### Define optimizer\n",
    "optimizer = torch.optim.SGD(model.parameters(),lr=LR, momentum=0)"
   ]
  },
  {
   "cell_type": "markdown",
   "id": "c49acb21",
   "metadata": {},
   "source": [
    "### Load PrivacyEngine from Opacus"
   ]
  },
  {
   "cell_type": "code",
   "execution_count": 10,
   "id": "1052ab28",
   "metadata": {
    "scrolled": true
   },
   "outputs": [
    {
     "name": "stdout",
     "output_type": "stream",
     "text": [
      "Using sigma=3.57421875 and C=1\n"
     ]
    }
   ],
   "source": [
    "privacy_engine = PrivacyEngine()\n",
    "\n",
    "model, optimizer, train_loader = privacy_engine.make_private_with_epsilon(\n",
    "    module=model,\n",
    "    optimizer=optimizer,\n",
    "    data_loader=train_loader,\n",
    "    epochs=EPOCHS,\n",
    "    target_epsilon=EPSILON,\n",
    "    target_delta=DELTA,\n",
    "    max_grad_norm=MAX_GRAD_NORM,\n",
    ")\n",
    "\n",
    "optimizer.target_epsilon = EPSILON\n",
    "optimizer.target_delta = DELTA\n",
    "\n",
    "print(f\"Using sigma={optimizer.noise_multiplier} and C={MAX_GRAD_NORM}\")\n",
    "# 2.0664"
   ]
  },
  {
   "cell_type": "markdown",
   "id": "ceb98989",
   "metadata": {},
   "source": [
    "### load pretrained model"
   ]
  },
  {
   "cell_type": "code",
   "execution_count": 11,
   "id": "792c6eec",
   "metadata": {},
   "outputs": [],
   "source": [
    "rmodel = src.RobModel(model, n_classes=N_CLASSES, normalize=NORMALIZE).cuda()"
   ]
  },
  {
   "cell_type": "code",
   "execution_count": 12,
   "id": "c26727ad",
   "metadata": {
    "scrolled": true
   },
   "outputs": [
    {
     "name": "stdout",
     "output_type": "stream",
     "text": [
      "Model loaded.\n",
      "Record Info:\n",
      "OrderedDict([('Epoch', 90), ('Iter', 782), ('CALoss', 0.003593623172491789), ('CALoss_1', 0.15832000970840454), ('Clean(Tr)', 99.956), ('Clean(Val)', 81.26), ('lr', 0.0029559615522887295), ('s/it', 0.07671212659846548)])\n"
     ]
    }
   ],
   "source": [
    "rmodel.load_dict('../DPTrainer/saved/240127_CIFAR10_WRN16WS_WarmUp-FromDiffusion-DG-Weight3-lr01/best.pth')"
   ]
  },
  {
   "cell_type": "markdown",
   "id": "d84b5e92",
   "metadata": {},
   "source": [
    "### Start Training"
   ]
  },
  {
   "cell_type": "code",
   "execution_count": 13,
   "id": "d3eaf86b",
   "metadata": {
    "scrolled": true
   },
   "outputs": [],
   "source": [
    "importlib.reload(tr)\n",
    "\n",
    "trainer = tr.DpTrainer(NAME,rmodel)\n",
    "trainer.max_physical_batch_size = MAX_PHYSICAL_BATCH_SIZE\n",
    "trainer.record_rob(train_loader, test_loader)"
   ]
  },
  {
   "cell_type": "code",
   "execution_count": 14,
   "id": "1d606ba9",
   "metadata": {
    "scrolled": true
   },
   "outputs": [
    {
     "name": "stdout",
     "output_type": "stream",
     "text": [
      "[240125_CIFAR10_WRN16WS_DPSGD-Rebuttal-DG3-3]\n",
      "Training Information.\n",
      "-Epochs: 30\n",
      "-Optimizer: SGD (\n",
      "Parameter Group 0\n",
      "    dampening: 0\n",
      "    differentiable: False\n",
      "    foreach: None\n",
      "    lr: 0.5\n",
      "    maximize: False\n",
      "    momentum: 0\n",
      "    nesterov: False\n",
      "    weight_decay: 0\n",
      ")\n",
      "-Scheduler: None\n",
      "-Save Path: ./saved/240125_CIFAR10_WRN16WS_DPSGD-Rebuttal-DG3-3\n",
      "-Save Type: None\n",
      "-Record Type: Epoch\n",
      "-Device: cuda:0\n",
      "----------------------------------------------------------\n",
      "Epoch   CALoss   Acc(Tr)   Clean(Val)   lr       Sec/it   \n",
      "==========================================================\n",
      "1       0.6512   80.0477   82.2400      0.5000   3.8133   \n",
      "----------------------------------------------------------\n",
      "2       0.6123   81.2206   82.7000      0.5000   3.8062   \n",
      "----------------------------------------------------------\n",
      "3       0.6040   81.7080   83.0600      0.5000   3.7863   \n",
      "----------------------------------------------------------\n",
      "4       0.5963   82.1685   83.3200      0.5000   3.8039   \n",
      "----------------------------------------------------------\n",
      "5       0.5849   82.5682   83.4500      0.5000   3.7786   \n",
      "----------------------------------------------------------\n",
      "6       0.5664   82.9822   83.5900      0.5000   3.8128   \n",
      "----------------------------------------------------------\n",
      "7       0.5615   83.2072   83.7600      0.5000   3.7909   \n",
      "----------------------------------------------------------\n",
      "8       0.5637   83.4372   83.9900      0.5000   3.7826   \n",
      "----------------------------------------------------------\n",
      "9       0.5614   83.5708   84.2100      0.5000   3.8078   \n",
      "----------------------------------------------------------\n",
      "10      0.5514   83.7899   84.2700      0.5000   3.7639   \n",
      "----------------------------------------------------------\n",
      "11      0.5455   83.9235   84.2700      0.5000   3.7779   \n",
      "----------------------------------------------------------\n",
      "12      0.5285   84.2617   84.3700      0.5000   3.8241   \n",
      "----------------------------------------------------------\n",
      "13      0.5430   84.1751   84.5600      0.5000   3.7650   \n",
      "----------------------------------------------------------\n",
      "14      0.5506   83.9769   84.8000      0.5000   3.8162   \n",
      "----------------------------------------------------------\n",
      "15      0.5371   84.3946   84.8200      0.5000   3.7612   \n",
      "----------------------------------------------------------\n",
      "16      0.5474   84.2264   84.7800      0.5000   3.7705   \n",
      "----------------------------------------------------------\n",
      "17      0.5283   84.5292   84.8600      0.5000   3.7569   \n",
      "----------------------------------------------------------\n",
      "18      0.5332   84.6791   84.9300      0.5000   3.8350   \n",
      "----------------------------------------------------------\n",
      "19      0.5180   84.9907   85.0200      0.5000   3.7978   \n",
      "----------------------------------------------------------\n",
      "20      0.5284   84.7281   85.0800      0.5000   3.7461   \n",
      "----------------------------------------------------------\n",
      "21      0.5176   85.0576   85.1100      0.5000   3.7675   \n",
      "----------------------------------------------------------\n",
      "22      0.5144   85.0774   85.2000      0.5000   3.7579   \n",
      "----------------------------------------------------------\n",
      "23      0.5170   85.2373   85.2000      0.5000   3.8504   \n",
      "----------------------------------------------------------\n",
      "24      0.5173   85.2387   85.3500      0.5000   3.7814   \n",
      "----------------------------------------------------------\n",
      "25      0.5107   85.3236   85.4900      0.5000   3.7621   \n",
      "----------------------------------------------------------\n",
      "26      0.5112   85.3917   85.5000      0.5000   3.8050   \n",
      "----------------------------------------------------------\n",
      "27      0.5059   85.5285   85.5000      0.5000   3.7401   \n",
      "----------------------------------------------------------\n",
      "28      0.5032   85.6621   85.4900      0.5000   3.7690   \n",
      "----------------------------------------------------------\n",
      "29      0.5091   85.4847   85.4600      0.5000   3.7713   \n",
      "----------------------------------------------------------\n",
      "30      0.5118   85.5146   85.5400      0.5000   3.8853   \n",
      "----------------------------------------------------------\n",
      "==========================================================\n",
      "Total Epoch: 30\n",
      "Start Time: 2024-01-28 16:48:47.003340\n",
      "Time Elapsed: 4:32:47.176683\n",
      "Min(epoch)/Max(epoch): \n",
      "-CALoss: 0.5032(28)/0.6512(1)\n",
      "-Acc(Tr): 80.0477(1)/85.6621(28)\n",
      "-Clean(Val): 82.2400(1)/85.5400(30)\n",
      "-lr: 0.5000(1)/0.5000(1)\n",
      "-Sec/it: 3.7401(27)/3.8853(30)\n",
      "----------------------------------------------------------\n"
     ]
    }
   ],
   "source": [
    "trainer.fit(train_loader=train_loader, max_epoch=EPOCHS, start_epoch=0,\n",
    "            optimizer=optimizer,public_loader=public_loader,extender=None,\n",
    "            scheduler=None, scheduler_type=\"Epoch\",\n",
    "            minimizer=None, is_ema=True, augmult=N_AUGMULT,\n",
    "            save_path=SAVE_PATH, save_best={\"Clean(Val)\":\"HB\"},\n",
    "            save_type=None, save_overwrite=True, record_type=\"Epoch\")"
   ]
  },
  {
   "cell_type": "markdown",
   "id": "ebf1db40",
   "metadata": {},
   "source": [
    "### Evaluation"
   ]
  },
  {
   "cell_type": "code",
   "execution_count": 15,
   "id": "0145f440",
   "metadata": {},
   "outputs": [
    {
     "name": "stdout",
     "output_type": "stream",
     "text": [
      "Model loaded.\n",
      "Record Info:\n",
      "OrderedDict([('Epoch', 30), ('CALoss', 0.5117606905690075), ('Acc(Tr)', 85.51459727170041), ('Clean(Val)', 85.54), ('lr', 0.5)])\n"
     ]
    },
    {
     "data": {
      "text/plain": [
       "85.53"
      ]
     },
     "execution_count": 15,
     "metadata": {},
     "output_type": "execute_result"
    }
   ],
   "source": [
    "rmodel.load_dict(PATH+NAME+'/last.pth')\n",
    "rmodel.eval_accuracy(test_loader)"
   ]
  },
  {
   "cell_type": "code",
   "execution_count": 16,
   "id": "f5737d86",
   "metadata": {
    "scrolled": true
   },
   "outputs": [
    {
     "name": "stdout",
     "output_type": "stream",
     "text": [
      "Model loaded.\n",
      "Record Info:\n",
      "OrderedDict([('Epoch', 30), ('CALoss', 0.5117606905690075), ('Acc(Tr)', 85.51459727170041), ('Clean(Val)', 85.54), ('lr', 0.5)])\n"
     ]
    },
    {
     "data": {
      "text/plain": [
       "85.54"
      ]
     },
     "execution_count": 16,
     "metadata": {},
     "output_type": "execute_result"
    }
   ],
   "source": [
    "rmodel.load_dict(PATH+NAME+'/best.pth')\n",
    "rmodel.eval_accuracy(test_loader)"
   ]
  },
  {
   "cell_type": "code",
   "execution_count": null,
   "id": "ea8209fe",
   "metadata": {},
   "outputs": [],
   "source": []
  },
  {
   "cell_type": "code",
   "execution_count": null,
   "id": "069098f0",
   "metadata": {},
   "outputs": [],
   "source": []
  }
 ],
 "metadata": {
  "kernelspec": {
   "display_name": "Python 3 (ipykernel)",
   "language": "python",
   "name": "python3"
  },
  "language_info": {
   "codemirror_mode": {
    "name": "ipython",
    "version": 3
   },
   "file_extension": ".py",
   "mimetype": "text/x-python",
   "name": "python",
   "nbconvert_exporter": "python",
   "pygments_lexer": "ipython3",
   "version": "3.9.18"
  }
 },
 "nbformat": 4,
 "nbformat_minor": 5
}
