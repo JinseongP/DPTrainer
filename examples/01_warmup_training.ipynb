{
 "cells": [
  {
   "cell_type": "code",
   "execution_count": 1,
   "id": "5c337b40",
   "metadata": {
    "scrolled": true
   },
   "outputs": [
    {
     "name": "stdout",
     "output_type": "stream",
     "text": [
      "Thu May 30 13:19:21 2024       \n",
      "+---------------------------------------------------------------------------------------+\n",
      "| NVIDIA-SMI 535.129.03             Driver Version: 535.129.03   CUDA Version: 12.2     |\n",
      "|-----------------------------------------+----------------------+----------------------+\n",
      "| GPU  Name                 Persistence-M | Bus-Id        Disp.A | Volatile Uncorr. ECC |\n",
      "| Fan  Temp   Perf          Pwr:Usage/Cap |         Memory-Usage | GPU-Util  Compute M. |\n",
      "|                                         |                      |               MIG M. |\n",
      "|=========================================+======================+======================|\n",
      "|   0  NVIDIA GeForce RTX 4090        Off | 00000000:18:00.0 Off |                  Off |\n",
      "| 30%   24C    P8               7W / 450W |     13MiB / 24564MiB |      0%      Default |\n",
      "|                                         |                      |                  N/A |\n",
      "+-----------------------------------------+----------------------+----------------------+\n",
      "|   1  NVIDIA GeForce RTX 4090        Off | 00000000:3F:00.0 Off |                  Off |\n",
      "| 30%   24C    P8              12W / 450W |     13MiB / 24564MiB |      0%      Default |\n",
      "|                                         |                      |                  N/A |\n",
      "+-----------------------------------------+----------------------+----------------------+\n",
      "|   2  NVIDIA GeForce RTX 4090        Off | 00000000:40:00.0 Off |                  Off |\n",
      "| 30%   24C    P8              13W / 450W |     16MiB / 24564MiB |      0%      Default |\n",
      "|                                         |                      |                  N/A |\n",
      "+-----------------------------------------+----------------------+----------------------+\n",
      "|   3  NVIDIA GeForce RTX 4090        Off | 00000000:65:00.0 Off |                  Off |\n",
      "| 30%   22C    P8              16W / 450W |     13MiB / 24564MiB |      0%      Default |\n",
      "|                                         |                      |                  N/A |\n",
      "+-----------------------------------------+----------------------+----------------------+\n",
      "                                                                                         \n",
      "+---------------------------------------------------------------------------------------+\n",
      "| Processes:                                                                            |\n",
      "|  GPU   GI   CI        PID   Type   Process name                            GPU Memory |\n",
      "|        ID   ID                                                             Usage      |\n",
      "|=======================================================================================|\n",
      "|    0   N/A  N/A      3435      G   /usr/lib/xorg/Xorg                            4MiB |\n",
      "|    1   N/A  N/A      3435      G   /usr/lib/xorg/Xorg                            4MiB |\n",
      "|    2   N/A  N/A      3435      G   /usr/lib/xorg/Xorg                            4MiB |\n",
      "|    3   N/A  N/A      3435      G   /usr/lib/xorg/Xorg                            4MiB |\n",
      "+---------------------------------------------------------------------------------------+\n"
     ]
    }
   ],
   "source": [
    "!nvidia-smi"
   ]
  },
  {
   "cell_type": "code",
   "execution_count": 1,
   "id": "2e1379b7",
   "metadata": {},
   "outputs": [],
   "source": [
    "import os\n",
    "import warnings\n",
    "\n",
    "warnings.filterwarnings(\"ignore\")\n",
    "if os.getcwd()[-8:]=='examples':\n",
    "    os.chdir('..')\n",
    "    \n",
    "os.environ[\"CUDA_VISIBLE_DEVICES\"] = \"3\" # Possible GPUS"
   ]
  },
  {
   "cell_type": "code",
   "execution_count": 2,
   "id": "4504274b",
   "metadata": {
    "scrolled": true
   },
   "outputs": [],
   "source": [
    "import numpy as np\n",
    "import torch\n",
    "import torchvision.transforms as transforms\n",
    "from PIL import Image\n",
    "\n",
    "from opacus import PrivacyEngine\n",
    "from opacus.validators import ModuleValidator\n",
    "import torchdefenses as td\n",
    "import torchdefenses.trainer as tr\n",
    "from torchdefenses.transforms.cutout import Cutout\n",
    "\n",
    "import src\n",
    "from src.utils import *"
   ]
  },
  {
   "cell_type": "markdown",
   "id": "45205af5",
   "metadata": {},
   "source": [
    "### Settings"
   ]
  },
  {
   "cell_type": "code",
   "execution_count": 3,
   "id": "7637d6b6",
   "metadata": {},
   "outputs": [],
   "source": [
    "#### FOR TRAINING\n",
    "EPOCHS = 100\n",
    "BATCH_SIZE = 64\n",
    "\n",
    "#### FOR MODELING\n",
    "MODEL_NAME = \"WRN16-4_WS\"\n",
    "DATA = \"CIFAR10\"\n",
    "MEAN = [0.4930, 0.4875, 0.4548]\n",
    "STD = [0.2475, 0.2445, 0.2637]\n",
    "N_CLASSES = 10\n",
    "LR = 0.1\n",
    "RHO = 0.1\n",
    "\n",
    "#### PATH SAVING\n",
    "PATH = \"./saved/\"\n",
    "NAME = f\"{DATA}_{MODEL_NAME}_EPOCH{EPOCHS}_BS{BATCH_SIZE}_\"\n",
    "SAVE_PATH = PATH + NAME\n",
    "DATA_PATH = '../DPTrainer/data/cifar_cond_bothinsample_weight10.npz'"
   ]
  },
  {
   "cell_type": "markdown",
   "id": "69d3fddb",
   "metadata": {},
   "source": [
    "### Data loader"
   ]
  },
  {
   "cell_type": "code",
   "execution_count": 4,
   "id": "b0d2c3cd",
   "metadata": {},
   "outputs": [],
   "source": [
    "data = np.load(DATA_PATH)\n",
    "\n",
    "images = data['samples'][-50000:]\n",
    "images = [Image.fromarray(np.array(img)) for img in images]\n",
    "labels = torch.Tensor(data['labels'][-50000:]).type('torch.LongTensor')\n",
    "labels = torch.argmax(labels, dim=1)"
   ]
  },
  {
   "cell_type": "code",
   "execution_count": 7,
   "id": "c8cc4c42-3b98-4ede-b3f3-7a57a2a4aef1",
   "metadata": {},
   "outputs": [],
   "source": [
    "train_transform  = transforms.Compose([\n",
    "                    transforms.RandomCrop(32, padding=4),\n",
    "                    transforms.RandomHorizontalFlip(),\n",
    "                    transforms.ToTensor(),\n",
    "                    transforms.Normalize(MEAN, STD),\n",
    "                    Cutout(),\n",
    "                   ])\n",
    "\n",
    "dataset = PtDataset(images, labels, transform=train_transform)\n",
    "public_loader = DataLoader(dataset, batch_size=BATCH_SIZE, shuffle=True, \n",
    "                           drop_last=False, num_workers=16, pin_memory=True)"
   ]
  },
  {
   "cell_type": "code",
   "execution_count": 8,
   "id": "8d2186ab",
   "metadata": {
    "scrolled": true
   },
   "outputs": [
    {
     "name": "stdout",
     "output_type": "stream",
     "text": [
      "Files already downloaded and verified\n",
      "Files already downloaded and verified\n",
      "Data Loaded!\n",
      "Train Data Length : 50000\n",
      "Test Data Length : 10000\n"
     ]
    }
   ],
   "source": [
    "data = td.Datasets(data_name=DATA,\n",
    "                   train_transform = transforms.Compose([\n",
    "                    transforms.RandomCrop(32, padding=4),\n",
    "                    transforms.RandomHorizontalFlip(),\n",
    "                    transforms.ToTensor(),\n",
    "                    transforms.Normalize(MEAN, STD),\n",
    "                    Cutout(),\n",
    "                   ]),\n",
    "                   val_transform = transforms.Compose([\n",
    "                    transforms.ToTensor(),\n",
    "                    transforms.Normalize(MEAN, STD),\n",
    "                   ]),\n",
    "                   test_transform = transforms.Compose([\n",
    "                    transforms.ToTensor(),\n",
    "                    transforms.Normalize(MEAN, STD),\n",
    "                   ]))\n",
    "_, test_loader = data.get_loader(batch_size=BATCH_SIZE, drop_last_train=False, num_workers=16)"
   ]
  },
  {
   "cell_type": "markdown",
   "id": "f44251a2",
   "metadata": {
    "id": "EcestuJGdLLM"
   },
   "source": [
    "### Model & Optimizer"
   ]
  },
  {
   "cell_type": "code",
   "execution_count": 9,
   "id": "5c05d5f9",
   "metadata": {
    "scrolled": true
   },
   "outputs": [
    {
     "name": "stdout",
     "output_type": "stream",
     "text": [
      "WRN16-4_WS is loaded.\n",
      "model params: 2.7489M\n"
     ]
    }
   ],
   "source": [
    "#### Load model\n",
    "model = src.utils.load_model(model_name=MODEL_NAME, n_classes=N_CLASSES).cuda() # Load model\n",
    "model = ModuleValidator.fix(model)\n",
    "set_groupnorm_num_groups(model, num_groups=16)\n",
    "\n",
    "ModuleValidator.validate(model, strict=False)\n",
    "\n",
    "pytorch_total_params = sum(p.numel() for p in model.parameters())\n",
    "\n",
    "print(\"model params: {:.4f}M\".format(pytorch_total_params/1000000))\n",
    "\n",
    "rmodel = td.RobModel(model, n_classes=N_CLASSES, normalization_used={'mean':MEAN, 'std':STD})"
   ]
  },
  {
   "cell_type": "markdown",
   "id": "d84b5e92",
   "metadata": {},
   "source": [
    "### Start Training"
   ]
  },
  {
   "cell_type": "code",
   "execution_count": null,
   "id": "a1f26de1",
   "metadata": {
    "scrolled": true
   },
   "outputs": [
    {
     "name": "stdout",
     "output_type": "stream",
     "text": [
      "[Standard]\n",
      "Training Information.\n",
      "-Epochs: 100\n",
      "-Optimizer: SGD (\n",
      "Parameter Group 0\n",
      "    dampening: 0\n",
      "    differentiable: False\n",
      "    foreach: None\n",
      "    initial_lr: 0.1\n",
      "    lr: 0.1\n",
      "    maximize: False\n",
      "    momentum: 0.9\n",
      "    nesterov: False\n",
      "    weight_decay: 0.0005\n",
      ")\n",
      "-Scheduler: <torch.optim.lr_scheduler.CosineAnnealingLR object at 0x7f280c54ed30>\n",
      "-Minmizer: <torchdefenses.optim.minimizer.SAM object at 0x7f271288f640>\n",
      "-Save Path: ./saved/CIFAR10_WRN16-4_WS_EPOCH100_BS64_\n",
      "-Save Type: None\n",
      "-Record Type: Epoch\n",
      "-Device: cuda:0\n",
      "-----------------------------------------------------------------------\n",
      "Epoch   CALoss   CALoss_1   Clean(Tr)   Clean(Val)   lr       s/it     \n",
      "=======================================================================\n",
      "1       1.0645   1.2347     50.7160     44.4300      0.1000   0.0743   \n",
      "-----------------------------------------------------------------------\n",
      "2       1.0790   1.3778     71.1140     59.6600      0.1000   0.0784   \n",
      "-----------------------------------------------------------------------\n",
      "3       0.3187   0.4939     80.7020     66.8700      0.0999   0.0792   \n",
      "-----------------------------------------------------------------------\n",
      "4       0.7468   1.0592     84.5420     67.4800      0.0998   0.0372   \n",
      "-----------------------------------------------------------------------\n",
      "5       0.3950   0.6606     88.2000     67.6800      0.0996   0.0364   \n",
      "-----------------------------------------------------------------------\n",
      "6       0.4627   0.7028     89.0400     68.7400      0.0994   0.0784   \n",
      "-----------------------------------------------------------------------\n",
      "7       0.1964   0.3805     91.6400     70.5500      0.0991   0.0784   \n",
      "-----------------------------------------------------------------------\n",
      "8       0.0421   0.1612     92.4440     70.3000      0.0988   0.0784   \n",
      "-----------------------------------------------------------------------\n",
      "9       0.1716   0.3789     90.9640     70.3500      0.0984   0.0798   \n",
      "-----------------------------------------------------------------------\n",
      "10      0.1747   0.4455     93.2720     70.3000      0.0980   0.0795   \n",
      "-----------------------------------------------------------------------\n",
      "11      0.2355   0.5086     94.7940     71.8300      0.0976   0.0791   \n",
      "-----------------------------------------------------------------------\n",
      "12      0.2248   0.4628     93.9620     71.8100      0.0970   0.0803   \n",
      "-----------------------------------------------------------------------\n",
      "13      0.3387   0.5992     94.6840     72.1300      0.0965   0.0806   \n",
      "-----------------------------------------------------------------------\n",
      "14      0.2064   0.4587     94.3920     72.3100      0.0959   0.0798   \n",
      "-----------------------------------------------------------------------\n",
      "15      0.2511   0.4358     94.1240     69.4500      0.0952   0.0794   \n",
      "-----------------------------------------------------------------------\n",
      "16      0.2551   0.5536     93.0440     68.9800      0.0946   0.0787   \n",
      "-----------------------------------------------------------------------\n",
      "17      0.1951   0.4525     93.8260     69.7900      0.0938   0.0803   \n",
      "-----------------------------------------------------------------------\n",
      "18      0.3183   0.5489     95.6940     73.0000      0.0930   0.0359   \n",
      "-----------------------------------------------------------------------\n",
      "19      0.3956   0.7148     94.5920     73.6500      0.0922   0.0792   \n",
      "-----------------------------------------------------------------------\n",
      "20      0.1371   0.4178     96.1820     73.7900      0.0914   0.0727   \n",
      "-----------------------------------------------------------------------\n",
      "21      0.1915   0.4550     95.4520     73.3500      0.0905   0.0767   \n",
      "-----------------------------------------------------------------------\n",
      "22      0.0388   0.2267     96.7260     75.8900      0.0895   0.0738   \n",
      "-----------------------------------------------------------------------\n",
      "23      0.0520   0.1847     94.6780     71.8700      0.0885   0.0757   \n",
      "-----------------------------------------------------------------------\n",
      "24      0.0907   0.2870     95.2360     73.1300      0.0875   0.0634   \n",
      "-----------------------------------------------------------------------\n",
      "25      0.0932   0.2628     95.6480     74.0600      0.0864   0.0774   \n",
      "-----------------------------------------------------------------------\n",
      "26      0.3156   0.6428     96.8200     75.5100      0.0854   0.0740   \n",
      "-----------------------------------------------------------------------\n",
      "27      0.1750   0.4163     96.4140     74.1500      0.0842   0.0700   \n",
      "-----------------------------------------------------------------------\n",
      "28      0.0724   0.2792     95.0080     71.8100      0.0831   0.0736   \n",
      "-----------------------------------------------------------------------\n",
      "29      0.0240   0.1471     96.3640     73.8800      0.0819   0.0707   \n",
      "-----------------------------------------------------------------------\n",
      "30      0.0588   0.2260     97.0240     74.3800      0.0806   0.0762   \n",
      "-----------------------------------------------------------------------\n",
      "31      0.0847   0.2552     95.9920     72.6200      0.0794   0.0741   \n",
      "-----------------------------------------------------------------------\n",
      "32      0.1504   0.3194     95.0580     71.1800      0.0781   0.0765   \n",
      "-----------------------------------------------------------------------\n",
      "33      0.1438   0.4111     97.1820     74.3600      0.0768   0.0778   \n",
      "-----------------------------------------------------------------------\n",
      "Progress: / [0:00:00.077652/it]                    \r"
     ]
    }
   ],
   "source": [
    "trainer = tr.Standard(rmodel)\n",
    "trainer.setup(optimizer=f\"SGD(lr={LR}, momentum=0.9, weight_decay=0.0005)\",\n",
    "              scheduler=\"Cosine\", scheduler_type=\"Epoch\",\n",
    "              minimizer=f\"SAM(rho={RHO})\",\n",
    "              n_epochs=EPOCHS, n_iters=len(public_loader)\n",
    "             )\n",
    "trainer.record_rob(public_loader, test_loader, eps=None)\n",
    "trainer.fit(train_loader=public_loader, n_epochs=EPOCHS,\n",
    "            save_path=SAVE_PATH, save_best={\"Clean(Val)\":\"HBO\"},\n",
    "            save_type=None, save_overwrite=True, record_type=\"Epoch\")"
   ]
  },
  {
   "cell_type": "markdown",
   "id": "ebf1db40",
   "metadata": {},
   "source": [
    "### Evaluation"
   ]
  },
  {
   "cell_type": "code",
   "execution_count": 16,
   "id": "0145f440",
   "metadata": {},
   "outputs": [
    {
     "name": "stdout",
     "output_type": "stream",
     "text": [
      "Model loaded.\n",
      "Record Info:\n",
      "OrderedDict([('Epoch', 100), ('Iter', 500), ('CALoss', 0.004133778624236584), ('CALoss_1', 0.033079203218221664), ('Clean(Tr)', 99.934), ('Clean(Val)', 80.31), ('lr', 1.2335990856710008e-05), ('s/it', 0.10744806)])\n"
     ]
    },
    {
     "data": {
      "text/plain": [
       "80.31"
      ]
     },
     "execution_count": 16,
     "metadata": {},
     "output_type": "execute_result"
    }
   ],
   "source": [
    "rmodel.load_dict(PATH+NAME+'/last.pth')\n",
    "rmodel.eval_accuracy(test_loader)"
   ]
  },
  {
   "cell_type": "code",
   "execution_count": 17,
   "id": "f5737d86",
   "metadata": {},
   "outputs": [
    {
     "name": "stdout",
     "output_type": "stream",
     "text": [
      "Model loaded.\n",
      "Record Info:\n",
      "OrderedDict([('Epoch', 93), ('Iter', 500), ('CALoss', 0.0031729331240057945), ('CALoss_1', 0.056504376232624054), ('Clean(Tr)', 99.944), ('Clean(Val)', 80.46), ('lr', 0.0007854209717842264), ('s/it', 0.230176634)])\n"
     ]
    },
    {
     "data": {
      "text/plain": [
       "80.46"
      ]
     },
     "execution_count": 17,
     "metadata": {},
     "output_type": "execute_result"
    }
   ],
   "source": [
    "rmodel.load_dict(PATH+NAME+'/best.pth')\n",
    "rmodel.eval_accuracy(test_loader)"
   ]
  },
  {
   "cell_type": "code",
   "execution_count": null,
   "id": "ea8209fe",
   "metadata": {},
   "outputs": [],
   "source": []
  },
  {
   "cell_type": "code",
   "execution_count": null,
   "id": "eb1d83b7",
   "metadata": {},
   "outputs": [],
   "source": []
  },
  {
   "cell_type": "code",
   "execution_count": null,
   "id": "a3bc78a9",
   "metadata": {},
   "outputs": [],
   "source": []
  }
 ],
 "metadata": {
  "kernelspec": {
   "display_name": "Python 3 (ipykernel)",
   "language": "python",
   "name": "python3"
  },
  "language_info": {
   "codemirror_mode": {
    "name": "ipython",
    "version": 3
   },
   "file_extension": ".py",
   "mimetype": "text/x-python",
   "name": "python",
   "nbconvert_exporter": "python",
   "pygments_lexer": "ipython3",
   "version": "3.9.18"
  }
 },
 "nbformat": 4,
 "nbformat_minor": 5
}
