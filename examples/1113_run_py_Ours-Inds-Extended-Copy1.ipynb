{
 "cells": [
  {
   "cell_type": "code",
   "execution_count": 1,
   "id": "5c337b40",
   "metadata": {
    "scrolled": true
   },
   "outputs": [
    {
     "name": "stdout",
     "output_type": "stream",
     "text": [
      "Thu May 30 13:28:38 2024       \n",
      "+---------------------------------------------------------------------------------------+\n",
      "| NVIDIA-SMI 535.129.03             Driver Version: 535.129.03   CUDA Version: 12.2     |\n",
      "|-----------------------------------------+----------------------+----------------------+\n",
      "| GPU  Name                 Persistence-M | Bus-Id        Disp.A | Volatile Uncorr. ECC |\n",
      "| Fan  Temp   Perf          Pwr:Usage/Cap |         Memory-Usage | GPU-Util  Compute M. |\n",
      "|                                         |                      |               MIG M. |\n",
      "|=========================================+======================+======================|\n",
      "|   0  NVIDIA GeForce RTX 4090        Off | 00000000:18:00.0 Off |                  Off |\n",
      "| 30%   25C    P8              10W / 450W |     13MiB / 24564MiB |      0%      Default |\n",
      "|                                         |                      |                  N/A |\n",
      "+-----------------------------------------+----------------------+----------------------+\n",
      "|   1  NVIDIA GeForce RTX 4090        Off | 00000000:3F:00.0 Off |                  Off |\n",
      "| 30%   24C    P8              12W / 450W |     13MiB / 24564MiB |      0%      Default |\n",
      "|                                         |                      |                  N/A |\n",
      "+-----------------------------------------+----------------------+----------------------+\n",
      "|   2  NVIDIA GeForce RTX 4090        Off | 00000000:40:00.0 Off |                  Off |\n",
      "| 30%   24C    P8              14W / 450W |     16MiB / 24564MiB |      0%      Default |\n",
      "|                                         |                      |                  N/A |\n",
      "+-----------------------------------------+----------------------+----------------------+\n",
      "|   3  NVIDIA GeForce RTX 4090        Off | 00000000:65:00.0 Off |                  Off |\n",
      "| 30%   33C    P2             100W / 450W |   1156MiB / 24564MiB |     21%      Default |\n",
      "|                                         |                      |                  N/A |\n",
      "+-----------------------------------------+----------------------+----------------------+\n",
      "                                                                                         \n",
      "+---------------------------------------------------------------------------------------+\n",
      "| Processes:                                                                            |\n",
      "|  GPU   GI   CI        PID   Type   Process name                            GPU Memory |\n",
      "|        ID   ID                                                             Usage      |\n",
      "|=======================================================================================|\n",
      "|    0   N/A  N/A      3435      G   /usr/lib/xorg/Xorg                            4MiB |\n",
      "|    1   N/A  N/A      3435      G   /usr/lib/xorg/Xorg                            4MiB |\n",
      "|    2   N/A  N/A      3435      G   /usr/lib/xorg/Xorg                            4MiB |\n",
      "|    3   N/A  N/A      3435      G   /usr/lib/xorg/Xorg                            4MiB |\n",
      "|    3   N/A  N/A    170979      C   ...anaconda3/envs/torch1.13/bin/python     1136MiB |\n",
      "+---------------------------------------------------------------------------------------+\n"
     ]
    }
   ],
   "source": [
    "!nvidia-smi"
   ]
  },
  {
   "cell_type": "code",
   "execution_count": 1,
   "id": "2e1379b7",
   "metadata": {
    "scrolled": true
   },
   "outputs": [
    {
     "name": "stderr",
     "output_type": "stream",
     "text": [
      "/home/tako/anaconda3/envs/torch1.13/lib/python3.9/site-packages/tqdm/auto.py:21: TqdmWarning: IProgress not found. Please update jupyter and ipywidgets. See https://ipywidgets.readthedocs.io/en/stable/user_install.html\n",
      "  from .autonotebook import tqdm as notebook_tqdm\n"
     ]
    }
   ],
   "source": [
    "import os\n",
    "import warnings\n",
    "import torch\n",
    "\n",
    "warnings.filterwarnings(\"ignore\")\n",
    "if os.getcwd()[-8:]=='examples':\n",
    "    os.chdir('..')"
   ]
  },
  {
   "cell_type": "code",
   "execution_count": 2,
   "id": "76b4646a",
   "metadata": {},
   "outputs": [],
   "source": [
    "GPU = 2"
   ]
  },
  {
   "cell_type": "code",
   "execution_count": 8,
   "id": "cd5ee2a1",
   "metadata": {},
   "outputs": [],
   "source": [
    "#### FOR DP\n",
    "MAX_GRAD_NORM = 1\n",
    "EPSILON = 2.0\n",
    "DELTA = 1e-5\n",
    "\n",
    "#### FOR TRAINING\n",
    "LR = 0.5\n",
    "EPOCHS = 30\n",
    "BATCH_SIZE = 4096\n",
    "MAX_PHYSICAL_BATCH_SIZE = 420\n",
    "PUBLIC_BATCH_SIZE = 64\n",
    "\n",
    "### FOR MODELING\n",
    "MODEL_NAME = \"WRN16-4_WS\"\n",
    "DATA = \"CIFAR10\"\n",
    "N_CLASSES = 10\n",
    "N_AUGMULT = 16\n",
    "\n",
    "#Extended\n",
    "EXTENDER = None\n",
    "PUBLIC_RHO = 0.05\n",
    "\n",
    "#PATH\n",
    "PATH = \"./saved/\"\n",
    "NAME = f\"{DATA}_{MODEL_NAME}_LR{LR}_EPS{EPSILON}_C{MAX_GRAD_NORM}_EPOCH{EPOCHS}_BS{BATCH_SIZE}_Augmult{N_AUGMULT}_\"\n",
    "\n",
    "\n",
    "pretrained_dir='../DPTrainer/saved/1113_CIFAR10_WRN16WS_WarmUp-FromDiffusion-SAM-Cosine-CutOut-DG10/last.pth'\n"
   ]
  },
  {
   "cell_type": "code",
   "execution_count": null,
   "id": "295b6ad8",
   "metadata": {},
   "outputs": [
    {
     "name": "stdout",
     "output_type": "stream",
     "text": [
      "args: Namespace(max_grad_norm=1.0, epsilon=2.0, delta=1e-05, optimizer='SGD(lr=0.5)', epochs=30, batch_size=4096, max_physical_batch_size=420, minimizer=None, rho=0.0, augmult=16, data='CIFAR10', model_name='WRN16-4_WS', normalization=True, n_class=10, path='./saved/', name='CIFAR10_WRN16-4_WS_EPS2_LR0.5_EPOCH30_EXTENDERNone_PRHO0.05', result_csv='./saved/result.csv', memo='0918_CIFAR_100_Warm_DPSGD_EPOCH100', use_gpu=True, gpu=2, warm=True, pretrained_dir='../DPTrainer/saved/1113_CIFAR10_WRN16WS_WarmUp-FromDiffusion-SAM-Cosine-CutOut-DG10/last.pth', public_data_dir='./data/cifar_cond_bothinsample_weight0.npz', public_indices_dir='./data/cifar-10-edm/sampled_index.pt', extender=None, public_batch_size=64, public_rho=0.05, augmentation=None, regularizer=None)\n",
      "Files already downloaded and verified\n",
      "Files already downloaded and verified\n",
      "Data Loaded (w/ Validation Set)!\n",
      "Train Data Length : 48000\n",
      "Val Data Length : 2000\n",
      "Test Data Length : 10000\n",
      "WRN16-4_WS is loaded.\n",
      "model params: 2.7489M\n",
      "Optimizer with : SGD(lr=0.5)\n",
      "Using sigma=3.57421875 and C=1.0\n",
      "Load pretrained model: ../DPTrainer/saved/1113_CIFAR10_WRN16WS_WarmUp-FromDiffusion-SAM-Cosine-CutOut-DG10/last.pth\n",
      "Model loaded.\n",
      "Record Info:\n",
      "OrderedDict([('Epoch', 100), ('Iter', 500), ('CALoss', 0.004574246238917112), ('CALoss_1', 0.04892915487289429), ('Clean(Tr)', 99.926), ('Clean(Val)', 80.47), ('lr', 1.2335990856710008e-05), ('s/it', 0.10306113199999999)])\n",
      "[CIFAR10_WRN16-4_WS_EPS2_LR0.5_EPOCH30_EXTENDERNone_PRHO0.05]\n",
      "Training Information.\n",
      "-Epochs: 30\n",
      "-Optimizer: SGD (\n",
      "Parameter Group 0\n",
      "    dampening: 0\n",
      "    differentiable: False\n",
      "    foreach: None\n",
      "    lr: 0.5\n",
      "    maximize: False\n",
      "    momentum: 0\n",
      "    nesterov: False\n",
      "    weight_decay: 0\n",
      ")\n",
      "-Scheduler: None\n",
      "-Save Path: ./saved/CIFAR10_WRN16-4_WS_EPS2_LR0.5_EPOCH30_EXTENDERNone_PRHO0.05\n",
      "-Save Type: None\n",
      "-Record Type: Epoch\n",
      "-Device: cuda:2\n",
      "----------------------------------------------------------\n",
      "Epoch   CALoss   Acc(Tr)   Clean(Val)   lr       Sec/it   \n",
      "==========================================================\n",
      "1       0.6693   79.8280   81.7800      0.5000   4.4843   \n",
      "----------------------------------------------------------\n",
      "Progress: / [0:00:04.413834/it]                    \r"
     ]
    }
   ],
   "source": [
    "for EPSILON in [2]:\n",
    "    LR = 0.5\n",
    "    EPOCHS = 30\n",
    "    OPTIMIZER = f\"SGD(lr={LR})\"\n",
    "\n",
    "    NAME = f\"{DATA}_{MODEL_NAME}_EPS{EPSILON}_LR{LR}_EPOCH{EPOCHS}_EXTENDER{EXTENDER}_PRHO{PUBLIC_RHO}\"\n",
    "    MEMO = \"0918 CIFAR 100 Warm DPSGD EPOCH100\".replace(\" \",\"_\")\n",
    "    \n",
    "    !python main.py --gpu {GPU} --max_grad_norm {MAX_GRAD_NORM} --epsilon {EPSILON} --delta {DELTA}  --data {DATA}\\\n",
    "    --optimizer \"{OPTIMIZER}\" --epochs {EPOCHS} --batch_size {BATCH_SIZE} --max_physical_batch_size {MAX_PHYSICAL_BATCH_SIZE}\\\n",
    "    --model_name {MODEL_NAME}  --n_class {N_CLASSES} --augmult {N_AUGMULT} --path {PATH} --name {NAME} --memo {MEMO}\\\n",
    "    --public_batch_size {PUBLIC_BATCH_SIZE} --extender {EXTENDER} --public_rho {PUBLIC_RHO} \\\n",
    "    --pretrained_dir {pretrained_dir}"
   ]
  },
  {
   "cell_type": "code",
   "execution_count": null,
   "id": "9157a2d4",
   "metadata": {},
   "outputs": [],
   "source": []
  },
  {
   "cell_type": "code",
   "execution_count": null,
   "id": "4736d6cf",
   "metadata": {},
   "outputs": [],
   "source": []
  }
 ],
 "metadata": {
  "kernelspec": {
   "display_name": "Python 3 (ipykernel)",
   "language": "python",
   "name": "python3"
  },
  "language_info": {
   "codemirror_mode": {
    "name": "ipython",
    "version": 3
   },
   "file_extension": ".py",
   "mimetype": "text/x-python",
   "name": "python",
   "nbconvert_exporter": "python",
   "pygments_lexer": "ipython3",
   "version": "3.9.18"
  }
 },
 "nbformat": 4,
 "nbformat_minor": 5
}
