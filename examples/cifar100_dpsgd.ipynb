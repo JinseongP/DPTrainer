{
 "cells": [
  {
   "cell_type": "code",
   "execution_count": 1,
   "id": "2e1379b7",
   "metadata": {
    "scrolled": true
   },
   "outputs": [
    {
     "name": "stderr",
     "output_type": "stream",
     "text": [
      "/home/tako/anaconda3/envs/torch1.13/lib/python3.9/site-packages/tqdm/auto.py:21: TqdmWarning: IProgress not found. Please update jupyter and ipywidgets. See https://ipywidgets.readthedocs.io/en/stable/user_install.html\n",
      "  from .autonotebook import tqdm as notebook_tqdm\n"
     ]
    }
   ],
   "source": [
    "import os\n",
    "import warnings\n",
    "import torch\n",
    "\n",
    "warnings.filterwarnings(\"ignore\")\n",
    "if os.getcwd()[-8:]=='examples':\n",
    "    os.chdir('..')"
   ]
  },
  {
   "cell_type": "markdown",
   "id": "69eae87e-1bd1-46c0-a91a-d05c72bad074",
   "metadata": {},
   "source": [
    "### exp setup"
   ]
  },
  {
   "cell_type": "code",
   "execution_count": 2,
   "id": "cd5ee2a1",
   "metadata": {},
   "outputs": [],
   "source": [
    "GPU = 0\n",
    "\n",
    "### FOR DP\n",
    "MAX_GRAD_NORM = 1\n",
    "EPSILON = 2.0\n",
    "DELTA = 1e-5\n",
    "\n",
    "### FOR TRAINING\n",
    "LR = 0.5\n",
    "EPOCHS = 50\n",
    "BATCH_SIZE = 4096\n",
    "MAX_PHYSICAL_BATCH_SIZE = 420\n",
    "PUBLIC_BATCH_SIZE = 64\n",
    "\n",
    "### FOR MODELING\n",
    "MODEL_NAME = \"WRN16-4_WS\"\n",
    "DATA = \"CIFAR100\"\n",
    "N_CLASSES = 100\n",
    "N_AUGMULT = 16\n",
    "\n",
    "### Optimization\n",
    "OPTIMIZER = f\"SGD(lr={LR})\"\n",
    "EXTENDER = None # \"DOPE-SGD\", \"Mirror-GD\"\n",
    "\n",
    "### PATH\n",
    "WARMUP_PATH='./saved/cifar-100-warmup/last.pth'\n",
    "PUBLIC_INDICES_DIR = './data/cifar-100-edm/cifar100_data_sampled_index.pt'\n",
    "PATH = \"./saved/\"\n",
    "NAME = \"cifar100-dpsgd\"\n",
    "MEMO = \"test\""
   ]
  },
  {
   "cell_type": "markdown",
   "id": "f4cf1d56-ed66-4ae9-b644-0559ac4d1372",
   "metadata": {},
   "source": [
    "### run"
   ]
  },
  {
   "cell_type": "code",
   "execution_count": null,
   "id": "295b6ad8",
   "metadata": {},
   "outputs": [
    {
     "name": "stdout",
     "output_type": "stream",
     "text": [
      "args: Namespace(max_grad_norm=1.0, epsilon=2.0, delta=1e-05, optimizer='SGD(lr=0.5)', epochs=50, batch_size=4096, max_physical_batch_size=420, minimizer=None, rho=0.0, augmult=16, data='CIFAR100', model_name='WRN16-4_WS', normalization=True, n_class=100, path='./saved/', name='cifar100-dpsgd', result_csv='./saved/result.csv', memo='test', use_gpu=True, gpu=0, warm=True, pretrained_dir='./saved/cifar-100-warmup/last.pth', public_data_dir='./data/cifar-10-edm/cifar10_data_sampled_weight0.npz', public_indices_dir='./data/cifar-100-edm/cifar100_data_sampled_index.pt', extender=None, public_batch_size=64)\n",
      "Files already downloaded and verified\n",
      "Files already downloaded and verified\n",
      "Data Loaded (w/ Validation Set)!\n",
      "Train Data Length : 48000\n",
      "Val Data Length : 2000\n",
      "Test Data Length : 10000\n",
      "WRN16-4_WS is loaded.\n",
      "model params: 2.7720M\n",
      "Optimizer with : SGD(lr=0.5)\n",
      "Using sigma=4.53125 and C=1.0\n",
      "Load pretrained model: ./saved/cifar-100-warmup/last.pth\n",
      "Model loaded.\n",
      "Record Info:\n",
      "OrderedDict([('Epoch', 200), ('Iter', 782), ('CALoss', 0.003489785362035036), ('CALoss_1', 0.0482649952173233), ('Clean(Tr)', 99.996), ('Clean(Val)', 36.03), ('lr', 6.168375916970619e-06), ('s/it', 0.07906209846547314)])\n",
      "[cifar100-dpsgd]\n",
      "Training Information.\n",
      "-Epochs: 50\n",
      "-Optimizer: SGD (\n",
      "Parameter Group 0\n",
      "    dampening: 0\n",
      "    differentiable: False\n",
      "    foreach: None\n",
      "    lr: 0.5\n",
      "    maximize: False\n",
      "    momentum: 0\n",
      "    nesterov: False\n",
      "    weight_decay: 0\n",
      ")\n",
      "-Scheduler: None\n",
      "-Save Path: ./saved/cifar100-dpsgd\n",
      "-Save Type: None\n",
      "-Record Type: Epoch\n",
      "-Device: cuda:0\n",
      "----------------------------------------------------------\n",
      "Epoch   CALoss   Acc(Tr)   Clean(Val)   lr       Sec/it   \n",
      "==========================================================\n",
      "1       2.7448   35.3978   37.9600      0.5000   4.4608   \n",
      "----------------------------------------------------------\n",
      "2       2.6550   36.3889   39.0100      0.5000   4.4574   \n",
      "----------------------------------------------------------\n",
      "3       2.5737   37.9293   39.6200      0.5000   4.4782   \n",
      "----------------------------------------------------------\n",
      "4       2.5179   38.6139   40.0400      0.5000   4.4635   \n",
      "----------------------------------------------------------\n",
      "5       2.4806   39.1145   40.5500      0.5000   4.4585   \n",
      "----------------------------------------------------------\n",
      "6       2.4359   39.9654   41.0500      0.5000   4.4758   \n",
      "----------------------------------------------------------\n",
      "7       2.4207   40.1531   41.3500      0.5000   4.5509   \n",
      "----------------------------------------------------------\n",
      "8       2.3940   40.5779   41.8200      0.5000   4.5686   \n",
      "----------------------------------------------------------\n",
      "9       2.3552   41.2267   42.1900      0.5000   4.4563   \n",
      "----------------------------------------------------------\n",
      "10      2.3224   41.7875   42.5600      0.5000   4.4667   \n",
      "----------------------------------------------------------\n",
      "11      2.3220   42.0319   42.7200      0.5000   4.4433   \n",
      "----------------------------------------------------------\n",
      "12      2.2893   42.4459   43.1600      0.5000   4.4604   \n",
      "----------------------------------------------------------\n",
      "13      2.2680   43.2058   43.4900      0.5000   4.4197   \n",
      "----------------------------------------------------------\n",
      "14      2.2491   43.4131   43.7000      0.5000   4.4523   \n",
      "----------------------------------------------------------\n",
      "Progress: - [0:00:04.439752/it]                    \r"
     ]
    }
   ],
   "source": [
    "!python main.py --gpu {GPU} --max_grad_norm {MAX_GRAD_NORM} --epsilon {EPSILON} --delta {DELTA}  --data {DATA}\\\n",
    "--optimizer \"{OPTIMIZER}\" --epochs {EPOCHS} --batch_size {BATCH_SIZE} --max_physical_batch_size {MAX_PHYSICAL_BATCH_SIZE}\\\n",
    "--model_name {MODEL_NAME}  --n_class {N_CLASSES} --augmult {N_AUGMULT} --path {PATH} --name {NAME} --memo {MEMO}\\\n",
    "--public_batch_size {PUBLIC_BATCH_SIZE} --extender {EXTENDER}  --pretrained_dir {WARMUP_PATH} --public_indices_dir {PUBLIC_INDICES_DIR}"
   ]
  },
  {
   "cell_type": "code",
   "execution_count": null,
   "id": "7f5fd2fb-15bb-4713-b5b7-8d034d6dce68",
   "metadata": {},
   "outputs": [],
   "source": []
  }
 ],
 "metadata": {
  "kernelspec": {
   "display_name": "Python 3 (ipykernel)",
   "language": "python",
   "name": "python3"
  },
  "language_info": {
   "codemirror_mode": {
    "name": "ipython",
    "version": 3
   },
   "file_extension": ".py",
   "mimetype": "text/x-python",
   "name": "python",
   "nbconvert_exporter": "python",
   "pygments_lexer": "ipython3",
   "version": "3.9.18"
  }
 },
 "nbformat": 4,
 "nbformat_minor": 5
}
